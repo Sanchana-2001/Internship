{
 "cells": [
  {
   "cell_type": "markdown",
   "id": "3197025a",
   "metadata": {},
   "source": [
    "This code extracts and processes text from PDFs, prepares it for machine learning, trains a Random Forest model, and evaluates its performance.\n",
    "\n",
    "1. Converts PDFs to text : Converts PDF documents to text using OCR (Optical Character Recognition) with pytesseract\n",
    "\n",
    "2. Process PDF Files: Reads PDF files from a specified directory.Extracts text and labels the documents based on filenames.                           Saves the extracted data (filename, text, label) to a CSV file.\n",
    "\n",
    "3. Cleans and processes the text data: Cleans the text by lowering case, removing punctuation, digits, extra spaces, and                             stopwords.\n",
    "\n",
    "4. Converts text data into numerical features using TF-IDF and encodes labels: Converts cleaned text into numerical features                         using TF-IDF. Encodes labels into a binary format.\n",
    "\n",
    "5. Applies dimensionality reduction for visualization and data splitting: Reduces feature dimensions using SVD for easier                             visualization.Splits the data into training and testing sets.Converts one-hot encoded labels to single-                         column format.\n",
    "\n",
    "6. Trains a Random Forest classifier: Trains a Random Forest classifier on the training data.\n",
    "\n",
    "7. Visualizes the data and decision boundary in 3D:Plots a 3D scatter plot of the data using 3 most important features\n",
    "                       \n",
    "8. Evaluates the model: Predicts labels for the test data and evaluates the model’s accuracy."
   ]
  },
  {
   "cell_type": "code",
   "execution_count": 1,
   "id": "55a0b60b",
   "metadata": {},
   "outputs": [],
   "source": [
    "import pytesseract\n",
    "from pdf2image import convert_from_path\n",
    "from PIL import Image\n",
    "import os \n",
    "import pandas as pd"
   ]
  },
  {
   "cell_type": "code",
   "execution_count": 2,
   "id": "42f97187",
   "metadata": {},
   "outputs": [],
   "source": [
    "def pdf_to_text(pdf_path):\n",
    "    images = convert_from_path(pdf_path)\n",
    "    text = \"\"\n",
    "    for image in images:\n",
    "        text = text + pytesseract.image_to_string(image)\n",
    "    return text"
   ]
  },
  {
   "cell_type": "code",
   "execution_count": 3,
   "id": "cf5ddb63",
   "metadata": {},
   "outputs": [],
   "source": [
    "pdf_dir = r\"C:\\Users\\Sanchana\\Desktop\\MLP\\USAPropertyDocuments\"\n",
    "pdf_files = [os.path.join(pdf_dir, file) for file in os.listdir(pdf_dir) if file.endswith('.pdf')]"
   ]
  },
  {
   "cell_type": "code",
   "execution_count": 4,
   "id": "581a0e86",
   "metadata": {},
   "outputs": [],
   "source": [
    "data = {'filename':[],'text':[],'label':[]}"
   ]
  },
  {
   "cell_type": "code",
   "execution_count": 5,
   "id": "bffb6e19",
   "metadata": {},
   "outputs": [],
   "source": [
    "for file in pdf_files:\n",
    "    fname = os.path.basename(file)\n",
    "    extracted_text = pdf_to_text(file)\n",
    "    if fname.startswith('M'):\n",
    "        label = 'Mortage'\n",
    "    elif fname.startswith('P'):\n",
    "        label = 'Partnership'\n",
    "    else:\n",
    "        label = 'Trust'\n",
    "    data['filename'].append(fname)\n",
    "    data['text'].append(extracted_text)\n",
    "    data['label'].append(label)"
   ]
  },
  {
   "cell_type": "code",
   "execution_count": 6,
   "id": "20f8dd9b",
   "metadata": {},
   "outputs": [],
   "source": [
    "df = pd.DataFrame(data)\n",
    "csv_path = r'Mortage.csv'\n",
    "df.to_csv(csv_path,index=False)"
   ]
  },
  {
   "cell_type": "code",
   "execution_count": 7,
   "id": "bd1adfee",
   "metadata": {},
   "outputs": [
    {
     "name": "stderr",
     "output_type": "stream",
     "text": [
      "[nltk_data] Downloading package stopwords to\n",
      "[nltk_data]     C:\\Users\\Sanchana\\AppData\\Roaming\\nltk_data...\n",
      "[nltk_data]   Package stopwords is already up-to-date!\n"
     ]
    },
    {
     "data": {
      "text/plain": [
       "True"
      ]
     },
     "execution_count": 7,
     "metadata": {},
     "output_type": "execute_result"
    }
   ],
   "source": [
    "import re\n",
    "import string\n",
    "from sklearn.feature_extraction.text import TfidfVectorizer\n",
    "from nltk.corpus import stopwords\n",
    "import nltk\n",
    "\n",
    "nltk.download('stopwords')"
   ]
  },
  {
   "cell_type": "code",
   "execution_count": 8,
   "id": "6339bb4a",
   "metadata": {},
   "outputs": [],
   "source": [
    "def clean_text(text):\n",
    "    text = text.lower()\n",
    "    text = text.translate(str.maketrans('','',string.punctuation))\n",
    "    text = re.sub(r'\\d+', '',text)\n",
    "    text = ' '.join(text.split())\n",
    "    stop_words = set(stopwords.words('english'))\n",
    "    text = ' '.join([word for word in text.split() if word not in stop_words])\n",
    "    return text"
   ]
  },
  {
   "cell_type": "code",
   "execution_count": 9,
   "id": "fe53fe09",
   "metadata": {},
   "outputs": [],
   "source": [
    "df['cleaned_text'] = df['text'].apply(clean_text)"
   ]
  },
  {
   "cell_type": "code",
   "execution_count": 10,
   "id": "a214b5dd",
   "metadata": {},
   "outputs": [
    {
     "data": {
      "text/html": [
       "<div>\n",
       "<style scoped>\n",
       "    .dataframe tbody tr th:only-of-type {\n",
       "        vertical-align: middle;\n",
       "    }\n",
       "\n",
       "    .dataframe tbody tr th {\n",
       "        vertical-align: top;\n",
       "    }\n",
       "\n",
       "    .dataframe thead th {\n",
       "        text-align: right;\n",
       "    }\n",
       "</style>\n",
       "<table border=\"1\" class=\"dataframe\">\n",
       "  <thead>\n",
       "    <tr style=\"text-align: right;\">\n",
       "      <th></th>\n",
       "      <th>label</th>\n",
       "      <th>cleaned_text</th>\n",
       "    </tr>\n",
       "  </thead>\n",
       "  <tbody>\n",
       "    <tr>\n",
       "      <th>0</th>\n",
       "      <td>Mortage</td>\n",
       "      <td>springside mortgage oeyr mortgage statement st...</td>\n",
       "    </tr>\n",
       "    <tr>\n",
       "      <th>1</th>\n",
       "      <td>Mortage</td>\n",
       "      <td>springside mortgage mortgage statement custoni...</td>\n",
       "    </tr>\n",
       "    <tr>\n",
       "      <th>2</th>\n",
       "      <td>Mortage</td>\n",
       "      <td>— certified copy wationsl city bank indiana or...</td>\n",
       "    </tr>\n",
       "    <tr>\n",
       "      <th>3</th>\n",
       "      <td>Mortage</td>\n",
       "      <td>southfield bank mortgage agreement parties mor...</td>\n",
       "    </tr>\n",
       "    <tr>\n",
       "      <th>4</th>\n",
       "      <td>Mortage</td>\n",
       "      <td>b cc e f g h form leave space clear affix addi...</td>\n",
       "    </tr>\n",
       "    <tr>\n",
       "      <th>5</th>\n",
       "      <td>Mortage</td>\n",
       "      <td>loan estimate vale tome jo year ea bue le weer...</td>\n",
       "    </tr>\n",
       "    <tr>\n",
       "      <th>6</th>\n",
       "      <td>Mortage</td>\n",
       "      <td>peathered nest mortgage company canada mortgag...</td>\n",
       "    </tr>\n",
       "    <tr>\n",
       "      <th>7</th>\n",
       "      <td>Partnership</td>\n",
       "      <td>prepared recording please retum paul barker pa...</td>\n",
       "    </tr>\n",
       "    <tr>\n",
       "      <th>8</th>\n",
       "      <td>Partnership</td>\n",
       "      <td>rs stamp paper partnership deed deed partnersh...</td>\n",
       "    </tr>\n",
       "    <tr>\n",
       "      <th>9</th>\n",
       "      <td>Partnership</td>\n",
       "      <td>deed partnership deed partnership made bilaspu...</td>\n",
       "    </tr>\n",
       "    <tr>\n",
       "      <th>10</th>\n",
       "      <td>Partnership</td>\n",
       "      <td>prepared recording please retum kirk freight k...</td>\n",
       "    </tr>\n",
       "    <tr>\n",
       "      <th>11</th>\n",
       "      <td>Partnership</td>\n",
       "      <td>prepared recording please retum rebecca hill r...</td>\n",
       "    </tr>\n",
       "    <tr>\n",
       "      <th>12</th>\n",
       "      <td>Partnership</td>\n",
       "      <td>partnership deed deed partnership made day ° j...</td>\n",
       "    </tr>\n",
       "    <tr>\n",
       "      <th>13</th>\n",
       "      <td>Partnership</td>\n",
       "      <td>prepared recording please return norton hills ...</td>\n",
       "    </tr>\n",
       "    <tr>\n",
       "      <th>14</th>\n",
       "      <td>Trust</td>\n",
       "      <td>trust deed gaiatree foundation indenture trust...</td>\n",
       "    </tr>\n",
       "    <tr>\n",
       "      <th>15</th>\n",
       "      <td>Trust</td>\n",
       "      <td>agree hired employed trustee moreover grantors...</td>\n",
       "    </tr>\n",
       "    <tr>\n",
       "      <th>16</th>\n",
       "      <td>Trust</td>\n",
       "      <td>recording requested melinda meyer mount blanc ...</td>\n",
       "    </tr>\n",
       "    <tr>\n",
       "      <th>17</th>\n",
       "      <td>Trust</td>\n",
       "      <td>maize trust masters ref deed trust consolidati...</td>\n",
       "    </tr>\n",
       "    <tr>\n",
       "      <th>18</th>\n",
       "      <td>Trust</td>\n",
       "      <td>recorders use recording requested recorded ret...</td>\n",
       "    </tr>\n",
       "    <tr>\n",
       "      <th>19</th>\n",
       "      <td>Trust</td>\n",
       "      <td>trust deed trust deed made th day june estate ...</td>\n",
       "    </tr>\n",
       "    <tr>\n",
       "      <th>20</th>\n",
       "      <td>Trust</td>\n",
       "      <td>recorders use recording requested recorded ret...</td>\n",
       "    </tr>\n",
       "  </tbody>\n",
       "</table>\n",
       "</div>"
      ],
      "text/plain": [
       "          label                                       cleaned_text\n",
       "0       Mortage  springside mortgage oeyr mortgage statement st...\n",
       "1       Mortage  springside mortgage mortgage statement custoni...\n",
       "2       Mortage  — certified copy wationsl city bank indiana or...\n",
       "3       Mortage  southfield bank mortgage agreement parties mor...\n",
       "4       Mortage  b cc e f g h form leave space clear affix addi...\n",
       "5       Mortage  loan estimate vale tome jo year ea bue le weer...\n",
       "6       Mortage  peathered nest mortgage company canada mortgag...\n",
       "7   Partnership  prepared recording please retum paul barker pa...\n",
       "8   Partnership  rs stamp paper partnership deed deed partnersh...\n",
       "9   Partnership  deed partnership deed partnership made bilaspu...\n",
       "10  Partnership  prepared recording please retum kirk freight k...\n",
       "11  Partnership  prepared recording please retum rebecca hill r...\n",
       "12  Partnership  partnership deed deed partnership made day ° j...\n",
       "13  Partnership  prepared recording please return norton hills ...\n",
       "14        Trust  trust deed gaiatree foundation indenture trust...\n",
       "15        Trust  agree hired employed trustee moreover grantors...\n",
       "16        Trust  recording requested melinda meyer mount blanc ...\n",
       "17        Trust  maize trust masters ref deed trust consolidati...\n",
       "18        Trust  recorders use recording requested recorded ret...\n",
       "19        Trust  trust deed trust deed made th day june estate ...\n",
       "20        Trust  recorders use recording requested recorded ret..."
      ]
     },
     "execution_count": 10,
     "metadata": {},
     "output_type": "execute_result"
    }
   ],
   "source": [
    "df.drop(['filename','text'],axis=1)"
   ]
  },
  {
   "cell_type": "code",
   "execution_count": 11,
   "id": "4f285091",
   "metadata": {
    "scrolled": true
   },
   "outputs": [],
   "source": [
    "from sklearn.feature_extraction.text import TfidfVectorizer\n",
    "from sklearn.preprocessing import OneHotEncoder\n",
    "\n",
    "vec = TfidfVectorizer()\n",
    "enc = OneHotEncoder()\n",
    "\n",
    "X = vec.fit_transform(df['cleaned_text'])\n",
    "Y = enc.fit_transform(df['label'].values.reshape(-1, 1))"
   ]
  },
  {
   "cell_type": "code",
   "execution_count": 12,
   "id": "b5578e48",
   "metadata": {},
   "outputs": [],
   "source": [
    "from sklearn.model_selection import train_test_split\n",
    "\n",
    "X_train,X_test,Y_train,Y_test = train_test_split(X,Y,test_size=0.2)"
   ]
  },
  {
   "cell_type": "code",
   "execution_count": 13,
   "id": "6a2cf69b",
   "metadata": {},
   "outputs": [
    {
     "name": "stdout",
     "output_type": "stream",
     "text": [
      "Feature Names:\n",
      " ['aad' 'aan' 'ab' ... 'ys' 'zeh' 'zittau']\n"
     ]
    }
   ],
   "source": [
    "print(\"Feature Names:\\n\", vec.get_feature_names_out())"
   ]
  },
  {
   "cell_type": "code",
   "execution_count": 14,
   "id": "14d7e0b3",
   "metadata": {},
   "outputs": [],
   "source": [
    "from sklearn.decomposition import TruncatedSVD\n",
    "svd = TruncatedSVD(n_components=3, random_state=42)\n",
    "X_reduced = svd.fit_transform(X)"
   ]
  },
  {
   "cell_type": "code",
   "execution_count": 15,
   "id": "df4d0878",
   "metadata": {},
   "outputs": [],
   "source": [
    "from sklearn.model_selection import train_test_split\n",
    "X_train, X_test, Y_train, Y_test = train_test_split(X_reduced, Y, test_size=0.2, random_state=42)"
   ]
  },
  {
   "cell_type": "code",
   "execution_count": 16,
   "id": "34c9e7c3",
   "metadata": {},
   "outputs": [],
   "source": [
    "import numpy as np\n",
    "Y_train_single = np.argmax(Y_train, axis=1)\n",
    "Y_test_single = np.argmax(Y_test, axis=1)"
   ]
  },
  {
   "cell_type": "code",
   "execution_count": 17,
   "id": "ed260aca",
   "metadata": {},
   "outputs": [
    {
     "name": "stderr",
     "output_type": "stream",
     "text": [
      "C:\\Users\\Sanchana\\anaconda\\lib\\site-packages\\sklearn\\base.py:1152: DataConversionWarning: A column-vector y was passed when a 1d array was expected. Please change the shape of y to (n_samples,), for example using ravel().\n",
      "  return fit_method(estimator, *args, **kwargs)\n"
     ]
    },
    {
     "data": {
      "text/html": [
       "<style>#sk-container-id-1 {color: black;}#sk-container-id-1 pre{padding: 0;}#sk-container-id-1 div.sk-toggleable {background-color: white;}#sk-container-id-1 label.sk-toggleable__label {cursor: pointer;display: block;width: 100%;margin-bottom: 0;padding: 0.3em;box-sizing: border-box;text-align: center;}#sk-container-id-1 label.sk-toggleable__label-arrow:before {content: \"▸\";float: left;margin-right: 0.25em;color: #696969;}#sk-container-id-1 label.sk-toggleable__label-arrow:hover:before {color: black;}#sk-container-id-1 div.sk-estimator:hover label.sk-toggleable__label-arrow:before {color: black;}#sk-container-id-1 div.sk-toggleable__content {max-height: 0;max-width: 0;overflow: hidden;text-align: left;background-color: #f0f8ff;}#sk-container-id-1 div.sk-toggleable__content pre {margin: 0.2em;color: black;border-radius: 0.25em;background-color: #f0f8ff;}#sk-container-id-1 input.sk-toggleable__control:checked~div.sk-toggleable__content {max-height: 200px;max-width: 100%;overflow: auto;}#sk-container-id-1 input.sk-toggleable__control:checked~label.sk-toggleable__label-arrow:before {content: \"▾\";}#sk-container-id-1 div.sk-estimator input.sk-toggleable__control:checked~label.sk-toggleable__label {background-color: #d4ebff;}#sk-container-id-1 div.sk-label input.sk-toggleable__control:checked~label.sk-toggleable__label {background-color: #d4ebff;}#sk-container-id-1 input.sk-hidden--visually {border: 0;clip: rect(1px 1px 1px 1px);clip: rect(1px, 1px, 1px, 1px);height: 1px;margin: -1px;overflow: hidden;padding: 0;position: absolute;width: 1px;}#sk-container-id-1 div.sk-estimator {font-family: monospace;background-color: #f0f8ff;border: 1px dotted black;border-radius: 0.25em;box-sizing: border-box;margin-bottom: 0.5em;}#sk-container-id-1 div.sk-estimator:hover {background-color: #d4ebff;}#sk-container-id-1 div.sk-parallel-item::after {content: \"\";width: 100%;border-bottom: 1px solid gray;flex-grow: 1;}#sk-container-id-1 div.sk-label:hover label.sk-toggleable__label {background-color: #d4ebff;}#sk-container-id-1 div.sk-serial::before {content: \"\";position: absolute;border-left: 1px solid gray;box-sizing: border-box;top: 0;bottom: 0;left: 50%;z-index: 0;}#sk-container-id-1 div.sk-serial {display: flex;flex-direction: column;align-items: center;background-color: white;padding-right: 0.2em;padding-left: 0.2em;position: relative;}#sk-container-id-1 div.sk-item {position: relative;z-index: 1;}#sk-container-id-1 div.sk-parallel {display: flex;align-items: stretch;justify-content: center;background-color: white;position: relative;}#sk-container-id-1 div.sk-item::before, #sk-container-id-1 div.sk-parallel-item::before {content: \"\";position: absolute;border-left: 1px solid gray;box-sizing: border-box;top: 0;bottom: 0;left: 50%;z-index: -1;}#sk-container-id-1 div.sk-parallel-item {display: flex;flex-direction: column;z-index: 1;position: relative;background-color: white;}#sk-container-id-1 div.sk-parallel-item:first-child::after {align-self: flex-end;width: 50%;}#sk-container-id-1 div.sk-parallel-item:last-child::after {align-self: flex-start;width: 50%;}#sk-container-id-1 div.sk-parallel-item:only-child::after {width: 0;}#sk-container-id-1 div.sk-dashed-wrapped {border: 1px dashed gray;margin: 0 0.4em 0.5em 0.4em;box-sizing: border-box;padding-bottom: 0.4em;background-color: white;}#sk-container-id-1 div.sk-label label {font-family: monospace;font-weight: bold;display: inline-block;line-height: 1.2em;}#sk-container-id-1 div.sk-label-container {text-align: center;}#sk-container-id-1 div.sk-container {/* jupyter's `normalize.less` sets `[hidden] { display: none; }` but bootstrap.min.css set `[hidden] { display: none !important; }` so we also need the `!important` here to be able to override the default hidden behavior on the sphinx rendered scikit-learn.org. See: https://github.com/scikit-learn/scikit-learn/issues/21755 */display: inline-block !important;position: relative;}#sk-container-id-1 div.sk-text-repr-fallback {display: none;}</style><div id=\"sk-container-id-1\" class=\"sk-top-container\"><div class=\"sk-text-repr-fallback\"><pre>RandomForestClassifier()</pre><b>In a Jupyter environment, please rerun this cell to show the HTML representation or trust the notebook. <br />On GitHub, the HTML representation is unable to render, please try loading this page with nbviewer.org.</b></div><div class=\"sk-container\" hidden><div class=\"sk-item\"><div class=\"sk-estimator sk-toggleable\"><input class=\"sk-toggleable__control sk-hidden--visually\" id=\"sk-estimator-id-1\" type=\"checkbox\" checked><label for=\"sk-estimator-id-1\" class=\"sk-toggleable__label sk-toggleable__label-arrow\">RandomForestClassifier</label><div class=\"sk-toggleable__content\"><pre>RandomForestClassifier()</pre></div></div></div></div></div>"
      ],
      "text/plain": [
       "RandomForestClassifier()"
      ]
     },
     "execution_count": 17,
     "metadata": {},
     "output_type": "execute_result"
    }
   ],
   "source": [
    "from sklearn.ensemble import RandomForestClassifier\n",
    "X_train = np.asarray(X_train)\n",
    "Y_train_single = np.asarray(Y_train_single)\n",
    "\n",
    "clf = RandomForestClassifier()\n",
    "clf.fit(X_train, Y_train_single)"
   ]
  },
  {
   "cell_type": "code",
   "execution_count": 18,
   "id": "ad8d896a",
   "metadata": {},
   "outputs": [
    {
     "data": {
      "image/png": "[encoded data removed]",
      "text/plain": [
       "<Figure size 720x576 with 2 Axes>"
      ]
     },
     "metadata": {
      "needs_background": "light"
     },
     "output_type": "display_data"
    }
   ],
   "source": [
    "import matplotlib.pyplot as plt\n",
    "from mpl_toolkits.mplot3d import Axes3D\n",
    "fig = plt.figure(figsize=(10, 8))\n",
    "ax = fig.add_subplot(111, projection='3d')\n",
    "\n",
    "\n",
    "sc = ax.scatter(X_train[:, 0], X_train[:, 1], X_train[:, 2], c=Y_train_single, cmap='viridis', edgecolor='k', s=50)\n",
    "\n",
    "\n",
    "ax.set_xlabel('Feature 1')\n",
    "ax.set_ylabel('Feature 2')\n",
    "ax.set_zlabel('Feature 3')\n",
    "\n",
    "\n",
    "plt.colorbar(sc)\n",
    "\n",
    "\n",
    "plt.title(\"3D Plot of Random Forest Decision Boundary\")\n",
    "plt.show()"
   ]
  },
  {
   "cell_type": "code",
   "execution_count": 19,
   "id": "c2dc77ee",
   "metadata": {},
   "outputs": [],
   "source": [
    "X_test = np.asarray(X_test)\n",
    "Y_pred = clf.predict(X_test)"
   ]
  },
  {
   "cell_type": "code",
   "execution_count": 20,
   "id": "286f890b",
   "metadata": {},
   "outputs": [
    {
     "name": "stdout",
     "output_type": "stream",
     "text": [
      "[0 2 0 0 1]\n"
     ]
    }
   ],
   "source": [
    "print(Y_pred)"
   ]
  },
  {
   "cell_type": "code",
   "execution_count": 21,
   "id": "b52cc485",
   "metadata": {},
   "outputs": [
    {
     "name": "stdout",
     "output_type": "stream",
     "text": [
      "[[0]\n",
      " [2]\n",
      " [2]\n",
      " [0]\n",
      " [1]]\n"
     ]
    }
   ],
   "source": [
    "print(Y_test_single)"
   ]
  },
  {
   "cell_type": "code",
   "execution_count": 22,
   "id": "821849f6",
   "metadata": {},
   "outputs": [],
   "source": [
    "Y_test_single = np.asarray(Y_test_single)\n",
    "Y_test_single = Y_test_single.ravel()"
   ]
  },
  {
   "cell_type": "code",
   "execution_count": 23,
   "id": "c02009e4",
   "metadata": {},
   "outputs": [
    {
     "name": "stdout",
     "output_type": "stream",
     "text": [
      "[0 2 2 0 1]\n"
     ]
    }
   ],
   "source": [
    "print(Y_test_single)"
   ]
  },
  {
   "cell_type": "code",
   "execution_count": 24,
   "id": "aa6d7174",
   "metadata": {},
   "outputs": [
    {
     "name": "stdout",
     "output_type": "stream",
     "text": [
      "Accuracy of the Random Forest model: 80.00%\n"
     ]
    }
   ],
   "source": [
    "from sklearn.metrics import accuracy_score\n",
    "accuracy = accuracy_score(Y_test_single, Y_pred)\n",
    "print(f\"Accuracy of the Random Forest model: {accuracy * 100:.2f}%\")"
   ]
  }
 ],
 "metadata": {
  "kernelspec": {
   "display_name": "Python 3",
   "language": "python",
   "name": "python3"
  },
  "language_info": {
   "codemirror_mode": {
    "name": "ipython",
    "version": 3
   },
   "file_extension": ".py",
   "mimetype": "text/x-python",
   "name": "python",
   "nbconvert_exporter": "python",
   "pygments_lexer": "ipython3",
   "version": "3.8.8"
  }
 },
 "nbformat": 4,
 "nbformat_minor": 5
}
