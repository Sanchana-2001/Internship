{
 "cells": [
  {
   "cell_type": "markdown",
   "id": "ea5cc74c",
   "metadata": {},
   "source": [
    "The following is for classifying PDF documents by extracting text from them using Tesseract OCR and then training a Naive Bayes classifier on the extracted text. The classifier uses the TF-IDF (Term Frequency-Inverse Document Frequency) representation of the text data to make predictions. The categories are Mortage, Trust Deed and Deed"
   ]
  },
  {
   "cell_type": "code",
   "execution_count": 2,
   "id": "b3979e20",
   "metadata": {},
   "outputs": [],
   "source": [
    "import pytesseract\n",
    "from PIL import Image\n",
    "from pdf2image import convert_from_path\n",
    "import os\n",
    "import pandas as pd"
   ]
  },
  {
   "cell_type": "code",
   "execution_count": 3,
   "id": "441fb111",
   "metadata": {},
   "outputs": [],
   "source": [
    "def pdf_to_text(pdf_path):\n",
    "    img = convert_from_path(pdf_path)\n",
    "    text = \"\"\n",
    "    for i in img:\n",
    "        text = text + pytesseract.image_to_string(i)\n",
    "    return text      "
   ]
  },
  {
   "cell_type": "code",
   "execution_count": 7,
   "id": "93dde140",
   "metadata": {},
   "outputs": [],
   "source": [
    "pdf_dir = r\"C:\\Users\\Sanchana\\Desktop\\MLP\\USAPropertyDocuments\"\n",
    "pdf_files = [os.path.join(pdf_dir, file) for file in os.listdir(pdf_dir) if file.endswith('.pdf')]"
   ]
  },
  {
   "cell_type": "code",
   "execution_count": 9,
   "id": "c81ea0ce",
   "metadata": {},
   "outputs": [],
   "source": [
    "data = {'filename':[], 'text':[], 'label':[]}"
   ]
  },
  {
   "cell_type": "code",
   "execution_count": 11,
   "id": "6854af1a",
   "metadata": {},
   "outputs": [],
   "source": [
    "for p in pdf_files:\n",
    "    fname = os.path.basename(p)\n",
    "    extext= pdf_to_text(p)\n",
    "    \n",
    "    if fname.startswith('M'):\n",
    "        label='Mortage'\n",
    "    elif fname.startswith('T'):\n",
    "        label = 'TrustDeed'\n",
    "    else:\n",
    "        label = 'Deed'\n",
    "        \n",
    "    data['filename'].append(fname)\n",
    "    data['text'].append(extext)\n",
    "    data['label'].append(label)\n",
    "    "
   ]
  },
  {
   "cell_type": "code",
   "execution_count": 12,
   "id": "a95b8473",
   "metadata": {},
   "outputs": [],
   "source": [
    "df = pd.DataFrame(data)"
   ]
  },
  {
   "cell_type": "code",
   "execution_count": 14,
   "id": "a757e923",
   "metadata": {},
   "outputs": [
    {
     "data": {
      "text/html": [
       "<div>\n",
       "<style scoped>\n",
       "    .dataframe tbody tr th:only-of-type {\n",
       "        vertical-align: middle;\n",
       "    }\n",
       "\n",
       "    .dataframe tbody tr th {\n",
       "        vertical-align: top;\n",
       "    }\n",
       "\n",
       "    .dataframe thead th {\n",
       "        text-align: right;\n",
       "    }\n",
       "</style>\n",
       "<table border=\"1\" class=\"dataframe\">\n",
       "  <thead>\n",
       "    <tr style=\"text-align: right;\">\n",
       "      <th></th>\n",
       "      <th>text</th>\n",
       "      <th>label</th>\n",
       "    </tr>\n",
       "  </thead>\n",
       "  <tbody>\n",
       "    <tr>\n",
       "      <th>0</th>\n",
       "      <td>Springside Mortgage oeyr Mortgage Statement\\n\\...</td>\n",
       "      <td>Mortage</td>\n",
       "    </tr>\n",
       "    <tr>\n",
       "      <th>1</th>\n",
       "      <td>Springside Mortgage Mortgage Statement\\nCuston...</td>\n",
       "      <td>Mortage</td>\n",
       "    </tr>\n",
       "    <tr>\n",
       "      <th>2</th>\n",
       "      <td>— THIS IS A CERTIFIED COPY\\nWationsl City Bank...</td>\n",
       "      <td>Mortage</td>\n",
       "    </tr>\n",
       "    <tr>\n",
       "      <th>3</th>\n",
       "      <td>Southfield Bank\\n\\nMORTGAGE AGREEMENT\\n\\nParti...</td>\n",
       "      <td>Mortage</td>\n",
       "    </tr>\n",
       "    <tr>\n",
       "      <th>4</th>\n",
       "      <td>(A)\\n\\n(B)\\n\\n(Cc)\\n\\n(D)\\n\\n(E)\\n\\n(F)\\n\\n(G)...</td>\n",
       "      <td>Mortage</td>\n",
       "    </tr>\n",
       "    <tr>\n",
       "      <th>5</th>\n",
       "      <td>Loan Estimate vale Tome JO year\\n\\nEa\\nBue Le ...</td>\n",
       "      <td>Mortage</td>\n",
       "    </tr>\n",
       "    <tr>\n",
       "      <th>6</th>\n",
       "      <td>PEATHERED NEST MORTGAGE COMPANY\\nOF CANADA\\n\\n...</td>\n",
       "      <td>Mortage</td>\n",
       "    </tr>\n",
       "    <tr>\n",
       "      <th>7</th>\n",
       "      <td>Springside Mortgage oeyr Mortgage Statement\\n\\...</td>\n",
       "      <td>Mortage</td>\n",
       "    </tr>\n",
       "    <tr>\n",
       "      <th>8</th>\n",
       "      <td>Springside Mortgage Mortgage Statement\\nCuston...</td>\n",
       "      <td>Mortage</td>\n",
       "    </tr>\n",
       "    <tr>\n",
       "      <th>9</th>\n",
       "      <td>— THIS IS A CERTIFIED COPY\\nWationsl City Bank...</td>\n",
       "      <td>Mortage</td>\n",
       "    </tr>\n",
       "    <tr>\n",
       "      <th>10</th>\n",
       "      <td>Southfield Bank\\n\\nMORTGAGE AGREEMENT\\n\\nParti...</td>\n",
       "      <td>Mortage</td>\n",
       "    </tr>\n",
       "    <tr>\n",
       "      <th>11</th>\n",
       "      <td>(A)\\n\\n(B)\\n\\n(Cc)\\n\\n(D)\\n\\n(E)\\n\\n(F)\\n\\n(G)...</td>\n",
       "      <td>Mortage</td>\n",
       "    </tr>\n",
       "    <tr>\n",
       "      <th>12</th>\n",
       "      <td>Loan Estimate vale Tome JO year\\n\\nEa\\nBue Le ...</td>\n",
       "      <td>Mortage</td>\n",
       "    </tr>\n",
       "    <tr>\n",
       "      <th>13</th>\n",
       "      <td>PEATHERED NEST MORTGAGE COMPANY\\nOF CANADA\\n\\n...</td>\n",
       "      <td>Mortage</td>\n",
       "    </tr>\n",
       "    <tr>\n",
       "      <th>14</th>\n",
       "      <td>Prepared By After Recording, Please Retum To\\n...</td>\n",
       "      <td>Deed</td>\n",
       "    </tr>\n",
       "    <tr>\n",
       "      <th>15</th>\n",
       "      <td>(Rs. 200 stamp paper)\\n\\nPARTNERSHIP DEED\\n\\nT...</td>\n",
       "      <td>Deed</td>\n",
       "    </tr>\n",
       "    <tr>\n",
       "      <th>16</th>\n",
       "      <td>DEED OF PARTNERSHIP\\n\\nThe Deed of Partnership...</td>\n",
       "      <td>Deed</td>\n",
       "    </tr>\n",
       "    <tr>\n",
       "      <th>17</th>\n",
       "      <td>Prepared By After Recording, Please Retum To\\n...</td>\n",
       "      <td>Deed</td>\n",
       "    </tr>\n",
       "    <tr>\n",
       "      <th>18</th>\n",
       "      <td>Prepared By After Recording, Please Retum To\\n...</td>\n",
       "      <td>Deed</td>\n",
       "    </tr>\n",
       "    <tr>\n",
       "      <th>19</th>\n",
       "      <td>PARTNERSHIP DEED\\n\\nTHIS DEED OF PARTNERSHIP i...</td>\n",
       "      <td>Deed</td>\n",
       "    </tr>\n",
       "    <tr>\n",
       "      <th>20</th>\n",
       "      <td>Prepared By After Recording, Please Return To\\...</td>\n",
       "      <td>Deed</td>\n",
       "    </tr>\n",
       "    <tr>\n",
       "      <th>21</th>\n",
       "      <td>TRUST DEED\\nGaiatree Foundation\\n\\nTHIS INDENT...</td>\n",
       "      <td>TrustDeed</td>\n",
       "    </tr>\n",
       "    <tr>\n",
       "      <th>22</th>\n",
       "      <td>agree that they have not hired or employed the...</td>\n",
       "      <td>TrustDeed</td>\n",
       "    </tr>\n",
       "    <tr>\n",
       "      <th>23</th>\n",
       "      <td>RECORDING REQUESTED BY:\\n\\nMelinda Meyer\\n1477...</td>\n",
       "      <td>TrustDeed</td>\n",
       "    </tr>\n",
       "    <tr>\n",
       "      <th>24</th>\n",
       "      <td>THE MAIZE TRUST\\n(MASTER'S REF. IT 8214/98)\\n\\...</td>\n",
       "      <td>TrustDeed</td>\n",
       "    </tr>\n",
       "    <tr>\n",
       "      <th>25</th>\n",
       "      <td>(or Recorder's Use Only)\\n\\nRECORDING REQUESTE...</td>\n",
       "      <td>TrustDeed</td>\n",
       "    </tr>\n",
       "    <tr>\n",
       "      <th>26</th>\n",
       "      <td>TRUST DEED\\nTHIS TRUST DEED is made on this 8t...</td>\n",
       "      <td>TrustDeed</td>\n",
       "    </tr>\n",
       "    <tr>\n",
       "      <th>27</th>\n",
       "      <td>(or Recorder's Use Only)\\n\\nRECORDING REQUESTE...</td>\n",
       "      <td>TrustDeed</td>\n",
       "    </tr>\n",
       "  </tbody>\n",
       "</table>\n",
       "</div>"
      ],
      "text/plain": [
       "                                                 text      label\n",
       "0   Springside Mortgage oeyr Mortgage Statement\\n\\...    Mortage\n",
       "1   Springside Mortgage Mortgage Statement\\nCuston...    Mortage\n",
       "2   — THIS IS A CERTIFIED COPY\\nWationsl City Bank...    Mortage\n",
       "3   Southfield Bank\\n\\nMORTGAGE AGREEMENT\\n\\nParti...    Mortage\n",
       "4   (A)\\n\\n(B)\\n\\n(Cc)\\n\\n(D)\\n\\n(E)\\n\\n(F)\\n\\n(G)...    Mortage\n",
       "5   Loan Estimate vale Tome JO year\\n\\nEa\\nBue Le ...    Mortage\n",
       "6   PEATHERED NEST MORTGAGE COMPANY\\nOF CANADA\\n\\n...    Mortage\n",
       "7   Springside Mortgage oeyr Mortgage Statement\\n\\...    Mortage\n",
       "8   Springside Mortgage Mortgage Statement\\nCuston...    Mortage\n",
       "9   — THIS IS A CERTIFIED COPY\\nWationsl City Bank...    Mortage\n",
       "10  Southfield Bank\\n\\nMORTGAGE AGREEMENT\\n\\nParti...    Mortage\n",
       "11  (A)\\n\\n(B)\\n\\n(Cc)\\n\\n(D)\\n\\n(E)\\n\\n(F)\\n\\n(G)...    Mortage\n",
       "12  Loan Estimate vale Tome JO year\\n\\nEa\\nBue Le ...    Mortage\n",
       "13  PEATHERED NEST MORTGAGE COMPANY\\nOF CANADA\\n\\n...    Mortage\n",
       "14  Prepared By After Recording, Please Retum To\\n...       Deed\n",
       "15  (Rs. 200 stamp paper)\\n\\nPARTNERSHIP DEED\\n\\nT...       Deed\n",
       "16  DEED OF PARTNERSHIP\\n\\nThe Deed of Partnership...       Deed\n",
       "17  Prepared By After Recording, Please Retum To\\n...       Deed\n",
       "18  Prepared By After Recording, Please Retum To\\n...       Deed\n",
       "19  PARTNERSHIP DEED\\n\\nTHIS DEED OF PARTNERSHIP i...       Deed\n",
       "20  Prepared By After Recording, Please Return To\\...       Deed\n",
       "21  TRUST DEED\\nGaiatree Foundation\\n\\nTHIS INDENT...  TrustDeed\n",
       "22  agree that they have not hired or employed the...  TrustDeed\n",
       "23  RECORDING REQUESTED BY:\\n\\nMelinda Meyer\\n1477...  TrustDeed\n",
       "24  THE MAIZE TRUST\\n(MASTER'S REF. IT 8214/98)\\n\\...  TrustDeed\n",
       "25  (or Recorder's Use Only)\\n\\nRECORDING REQUESTE...  TrustDeed\n",
       "26  TRUST DEED\\nTHIS TRUST DEED is made on this 8t...  TrustDeed\n",
       "27  (or Recorder's Use Only)\\n\\nRECORDING REQUESTE...  TrustDeed"
      ]
     },
     "execution_count": 14,
     "metadata": {},
     "output_type": "execute_result"
    }
   ],
   "source": [
    "df.drop(['filename'],axis=1)"
   ]
  },
  {
   "cell_type": "code",
   "execution_count": 15,
   "id": "725b6272",
   "metadata": {},
   "outputs": [],
   "source": [
    "from sklearn.feature_extraction.text import TfidfVectorizer\n",
    "from sklearn.naive_bayes import MultinomialNB\n",
    "from sklearn.model_selection import train_test_split\n",
    "from sklearn import metrics"
   ]
  },
  {
   "cell_type": "code",
   "execution_count": 16,
   "id": "02120a11",
   "metadata": {},
   "outputs": [],
   "source": [
    "X_train, X_test, Y_train, Y_test = train_test_split(df['text'],df['label'],test_size=0.2)"
   ]
  },
  {
   "cell_type": "code",
   "execution_count": 18,
   "id": "4b69ab19",
   "metadata": {},
   "outputs": [],
   "source": [
    "vec = TfidfVectorizer()\n",
    "X_train_vec = vec.fit_transform(X_train)\n",
    "X_test_vec = vec.transform(X_test)"
   ]
  },
  {
   "cell_type": "code",
   "execution_count": 19,
   "id": "c29b1820",
   "metadata": {},
   "outputs": [
    {
     "data": {
      "text/html": [
       "<style>#sk-container-id-1 {color: black;}#sk-container-id-1 pre{padding: 0;}#sk-container-id-1 div.sk-toggleable {background-color: white;}#sk-container-id-1 label.sk-toggleable__label {cursor: pointer;display: block;width: 100%;margin-bottom: 0;padding: 0.3em;box-sizing: border-box;text-align: center;}#sk-container-id-1 label.sk-toggleable__label-arrow:before {content: \"▸\";float: left;margin-right: 0.25em;color: #696969;}#sk-container-id-1 label.sk-toggleable__label-arrow:hover:before {color: black;}#sk-container-id-1 div.sk-estimator:hover label.sk-toggleable__label-arrow:before {color: black;}#sk-container-id-1 div.sk-toggleable__content {max-height: 0;max-width: 0;overflow: hidden;text-align: left;background-color: #f0f8ff;}#sk-container-id-1 div.sk-toggleable__content pre {margin: 0.2em;color: black;border-radius: 0.25em;background-color: #f0f8ff;}#sk-container-id-1 input.sk-toggleable__control:checked~div.sk-toggleable__content {max-height: 200px;max-width: 100%;overflow: auto;}#sk-container-id-1 input.sk-toggleable__control:checked~label.sk-toggleable__label-arrow:before {content: \"▾\";}#sk-container-id-1 div.sk-estimator input.sk-toggleable__control:checked~label.sk-toggleable__label {background-color: #d4ebff;}#sk-container-id-1 div.sk-label input.sk-toggleable__control:checked~label.sk-toggleable__label {background-color: #d4ebff;}#sk-container-id-1 input.sk-hidden--visually {border: 0;clip: rect(1px 1px 1px 1px);clip: rect(1px, 1px, 1px, 1px);height: 1px;margin: -1px;overflow: hidden;padding: 0;position: absolute;width: 1px;}#sk-container-id-1 div.sk-estimator {font-family: monospace;background-color: #f0f8ff;border: 1px dotted black;border-radius: 0.25em;box-sizing: border-box;margin-bottom: 0.5em;}#sk-container-id-1 div.sk-estimator:hover {background-color: #d4ebff;}#sk-container-id-1 div.sk-parallel-item::after {content: \"\";width: 100%;border-bottom: 1px solid gray;flex-grow: 1;}#sk-container-id-1 div.sk-label:hover label.sk-toggleable__label {background-color: #d4ebff;}#sk-container-id-1 div.sk-serial::before {content: \"\";position: absolute;border-left: 1px solid gray;box-sizing: border-box;top: 0;bottom: 0;left: 50%;z-index: 0;}#sk-container-id-1 div.sk-serial {display: flex;flex-direction: column;align-items: center;background-color: white;padding-right: 0.2em;padding-left: 0.2em;position: relative;}#sk-container-id-1 div.sk-item {position: relative;z-index: 1;}#sk-container-id-1 div.sk-parallel {display: flex;align-items: stretch;justify-content: center;background-color: white;position: relative;}#sk-container-id-1 div.sk-item::before, #sk-container-id-1 div.sk-parallel-item::before {content: \"\";position: absolute;border-left: 1px solid gray;box-sizing: border-box;top: 0;bottom: 0;left: 50%;z-index: -1;}#sk-container-id-1 div.sk-parallel-item {display: flex;flex-direction: column;z-index: 1;position: relative;background-color: white;}#sk-container-id-1 div.sk-parallel-item:first-child::after {align-self: flex-end;width: 50%;}#sk-container-id-1 div.sk-parallel-item:last-child::after {align-self: flex-start;width: 50%;}#sk-container-id-1 div.sk-parallel-item:only-child::after {width: 0;}#sk-container-id-1 div.sk-dashed-wrapped {border: 1px dashed gray;margin: 0 0.4em 0.5em 0.4em;box-sizing: border-box;padding-bottom: 0.4em;background-color: white;}#sk-container-id-1 div.sk-label label {font-family: monospace;font-weight: bold;display: inline-block;line-height: 1.2em;}#sk-container-id-1 div.sk-label-container {text-align: center;}#sk-container-id-1 div.sk-container {/* jupyter's `normalize.less` sets `[hidden] { display: none; }` but bootstrap.min.css set `[hidden] { display: none !important; }` so we also need the `!important` here to be able to override the default hidden behavior on the sphinx rendered scikit-learn.org. See: https://github.com/scikit-learn/scikit-learn/issues/21755 */display: inline-block !important;position: relative;}#sk-container-id-1 div.sk-text-repr-fallback {display: none;}</style><div id=\"sk-container-id-1\" class=\"sk-top-container\"><div class=\"sk-text-repr-fallback\"><pre>MultinomialNB()</pre><b>In a Jupyter environment, please rerun this cell to show the HTML representation or trust the notebook. <br />On GitHub, the HTML representation is unable to render, please try loading this page with nbviewer.org.</b></div><div class=\"sk-container\" hidden><div class=\"sk-item\"><div class=\"sk-estimator sk-toggleable\"><input class=\"sk-toggleable__control sk-hidden--visually\" id=\"sk-estimator-id-1\" type=\"checkbox\" checked><label for=\"sk-estimator-id-1\" class=\"sk-toggleable__label sk-toggleable__label-arrow\">MultinomialNB</label><div class=\"sk-toggleable__content\"><pre>MultinomialNB()</pre></div></div></div></div></div>"
      ],
      "text/plain": [
       "MultinomialNB()"
      ]
     },
     "execution_count": 19,
     "metadata": {},
     "output_type": "execute_result"
    }
   ],
   "source": [
    "mnb = MultinomialNB()\n",
    "mnb.fit(X_train_vec,Y_train)"
   ]
  },
  {
   "cell_type": "code",
   "execution_count": 21,
   "id": "29b7aad1",
   "metadata": {},
   "outputs": [],
   "source": [
    "y_pred = mnb.predict(X_test_vec)"
   ]
  },
  {
   "cell_type": "code",
   "execution_count": 23,
   "id": "aa822a6e",
   "metadata": {},
   "outputs": [
    {
     "name": "stdout",
     "output_type": "stream",
     "text": [
      "              precision    recall  f1-score   support\n",
      "\n",
      "        Deed       1.00      0.50      0.67         2\n",
      "     Mortage       0.40      1.00      0.57         2\n",
      "   TrustDeed       0.00      0.00      0.00         2\n",
      "\n",
      "    accuracy                           0.50         6\n",
      "   macro avg       0.47      0.50      0.41         6\n",
      "weighted avg       0.47      0.50      0.41         6\n",
      "\n"
     ]
    },
    {
     "name": "stderr",
     "output_type": "stream",
     "text": [
      "C:\\Users\\Sanchana\\anaconda\\lib\\site-packages\\sklearn\\metrics\\_classification.py:1471: UndefinedMetricWarning: Precision and F-score are ill-defined and being set to 0.0 in labels with no predicted samples. Use `zero_division` parameter to control this behavior.\n",
      "  _warn_prf(average, modifier, msg_start, len(result))\n",
      "C:\\Users\\Sanchana\\anaconda\\lib\\site-packages\\sklearn\\metrics\\_classification.py:1471: UndefinedMetricWarning: Precision and F-score are ill-defined and being set to 0.0 in labels with no predicted samples. Use `zero_division` parameter to control this behavior.\n",
      "  _warn_prf(average, modifier, msg_start, len(result))\n",
      "C:\\Users\\Sanchana\\anaconda\\lib\\site-packages\\sklearn\\metrics\\_classification.py:1471: UndefinedMetricWarning: Precision and F-score are ill-defined and being set to 0.0 in labels with no predicted samples. Use `zero_division` parameter to control this behavior.\n",
      "  _warn_prf(average, modifier, msg_start, len(result))\n"
     ]
    }
   ],
   "source": [
    "print(metrics.classification_report(Y_test, y_pred))"
   ]
  },
  {
   "cell_type": "code",
   "execution_count": null,
   "id": "4055de54",
   "metadata": {},
   "outputs": [],
   "source": []
  }
 ],
 "metadata": {
  "kernelspec": {
   "display_name": "Python 3",
   "language": "python",
   "name": "python3"
  },
  "language_info": {
   "codemirror_mode": {
    "name": "ipython",
    "version": 3
   },
   "file_extension": ".py",
   "mimetype": "text/x-python",
   "name": "python",
   "nbconvert_exporter": "python",
   "pygments_lexer": "ipython3",
   "version": "3.8.8"
  }
 },
 "nbformat": 4,
 "nbformat_minor": 5
}
