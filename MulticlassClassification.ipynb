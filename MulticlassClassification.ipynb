{
 "cells": [
  {
   "cell_type": "markdown",
   "id": "ea5cc74c",
   "metadata": {},
   "source": [
    "The following is for classifying PDF documents by extracting text from them using Tesseract OCR and then training a Naive Bayes classifier on the extracted text. The classifier uses the TF-IDF (Term Frequency-Inverse Document Frequency) representation of the text data to make predictions. The categories are Mortage, Trust Deed and Deed"
   ]
  },
  {
   "cell_type": "code",
   "execution_count": 1,
   "id": "b3979e20",
   "metadata": {},
   "outputs": [],
   "source": [
    "import pytesseract\n",
    "from PIL import Image\n",
    "from pdf2image import convert_from_path\n",
    "import os\n",
    "import pandas as pd"
   ]
  },
  {
   "cell_type": "code",
   "execution_count": 2,
   "id": "441fb111",
   "metadata": {},
   "outputs": [],
   "source": [
    "def pdf_to_text(pdf_path):\n",
    "    img = convert_from_path(pdf_path)\n",
    "    text = \"\"\n",
    "    for i in img:\n",
    "        text = text + pytesseract.image_to_string(i)\n",
    "    return text      "
   ]
  },
  {
   "cell_type": "code",
   "execution_count": 3,
   "id": "93dde140",
   "metadata": {},
   "outputs": [],
   "source": [
    "pdf_dir = r\"C:\\Users\\Sanchana\\Desktop\\MLP\\USAPropertyDocuments\"\n",
    "pdf_files = [os.path.join(pdf_dir, file) for file in os.listdir(pdf_dir) if file.endswith('.pdf')]"
   ]
  },
  {
   "cell_type": "code",
   "execution_count": 4,
   "id": "c81ea0ce",
   "metadata": {},
   "outputs": [],
   "source": [
    "data = {'filename':[], 'text':[], 'label':[]}"
   ]
  },
  {
   "cell_type": "code",
   "execution_count": 5,
   "id": "6854af1a",
   "metadata": {},
   "outputs": [],
   "source": [
    "for p in pdf_files:\n",
    "    fname = os.path.basename(p)\n",
    "    extext= pdf_to_text(p)\n",
    "    \n",
    "    if fname.startswith('M'):\n",
    "        label='Mortage'\n",
    "    elif fname.startswith('T'):\n",
    "        label = 'TrustDeed'\n",
    "    else:\n",
    "        label = 'Deed'\n",
    "        \n",
    "    data['filename'].append(fname)\n",
    "    data['text'].append(extext)\n",
    "    data['label'].append(label)\n",
    "    "
   ]
  },
  {
   "cell_type": "code",
   "execution_count": 6,
   "id": "a95b8473",
   "metadata": {},
   "outputs": [],
   "source": [
    "df = pd.DataFrame(data)"
   ]
  },
  {
   "cell_type": "code",
   "execution_count": 7,
   "id": "a757e923",
   "metadata": {},
   "outputs": [
    {
     "data": {
      "text/html": [
       "<div>\n",
       "<style scoped>\n",
       "    .dataframe tbody tr th:only-of-type {\n",
       "        vertical-align: middle;\n",
       "    }\n",
       "\n",
       "    .dataframe tbody tr th {\n",
       "        vertical-align: top;\n",
       "    }\n",
       "\n",
       "    .dataframe thead th {\n",
       "        text-align: right;\n",
       "    }\n",
       "</style>\n",
       "<table border=\"1\" class=\"dataframe\">\n",
       "  <thead>\n",
       "    <tr style=\"text-align: right;\">\n",
       "      <th></th>\n",
       "      <th>text</th>\n",
       "      <th>label</th>\n",
       "    </tr>\n",
       "  </thead>\n",
       "  <tbody>\n",
       "    <tr>\n",
       "      <th>0</th>\n",
       "      <td>Springside Mortgage oeyr Mortgage Statement\\n\\...</td>\n",
       "      <td>Mortage</td>\n",
       "    </tr>\n",
       "    <tr>\n",
       "      <th>1</th>\n",
       "      <td>Springside Mortgage Mortgage Statement\\nCuston...</td>\n",
       "      <td>Mortage</td>\n",
       "    </tr>\n",
       "    <tr>\n",
       "      <th>2</th>\n",
       "      <td>— THIS IS A CERTIFIED COPY\\nWationsl City Bank...</td>\n",
       "      <td>Mortage</td>\n",
       "    </tr>\n",
       "    <tr>\n",
       "      <th>3</th>\n",
       "      <td>Southfield Bank\\n\\nMORTGAGE AGREEMENT\\n\\nParti...</td>\n",
       "      <td>Mortage</td>\n",
       "    </tr>\n",
       "    <tr>\n",
       "      <th>4</th>\n",
       "      <td>(A)\\n\\n(B)\\n\\n(Cc)\\n\\n(D)\\n\\n(E)\\n\\n(F)\\n\\n(G)...</td>\n",
       "      <td>Mortage</td>\n",
       "    </tr>\n",
       "    <tr>\n",
       "      <th>5</th>\n",
       "      <td>Loan Estimate vale Tome JO year\\n\\nEa\\nBue Le ...</td>\n",
       "      <td>Mortage</td>\n",
       "    </tr>\n",
       "    <tr>\n",
       "      <th>6</th>\n",
       "      <td>PEATHERED NEST MORTGAGE COMPANY\\nOF CANADA\\n\\n...</td>\n",
       "      <td>Mortage</td>\n",
       "    </tr>\n",
       "    <tr>\n",
       "      <th>7</th>\n",
       "      <td>Prepared By After Recording, Please Retum To\\n...</td>\n",
       "      <td>Deed</td>\n",
       "    </tr>\n",
       "    <tr>\n",
       "      <th>8</th>\n",
       "      <td>(Rs. 200 stamp paper)\\n\\nPARTNERSHIP DEED\\n\\nT...</td>\n",
       "      <td>Deed</td>\n",
       "    </tr>\n",
       "    <tr>\n",
       "      <th>9</th>\n",
       "      <td>DEED OF PARTNERSHIP\\n\\nThe Deed of Partnership...</td>\n",
       "      <td>Deed</td>\n",
       "    </tr>\n",
       "    <tr>\n",
       "      <th>10</th>\n",
       "      <td>Prepared By After Recording, Please Retum To\\n...</td>\n",
       "      <td>Deed</td>\n",
       "    </tr>\n",
       "    <tr>\n",
       "      <th>11</th>\n",
       "      <td>Prepared By After Recording, Please Retum To\\n...</td>\n",
       "      <td>Deed</td>\n",
       "    </tr>\n",
       "    <tr>\n",
       "      <th>12</th>\n",
       "      <td>PARTNERSHIP DEED\\n\\nTHIS DEED OF PARTNERSHIP i...</td>\n",
       "      <td>Deed</td>\n",
       "    </tr>\n",
       "    <tr>\n",
       "      <th>13</th>\n",
       "      <td>Prepared By After Recording, Please Return To\\...</td>\n",
       "      <td>Deed</td>\n",
       "    </tr>\n",
       "    <tr>\n",
       "      <th>14</th>\n",
       "      <td>TRUST DEED\\nGaiatree Foundation\\n\\nTHIS INDENT...</td>\n",
       "      <td>TrustDeed</td>\n",
       "    </tr>\n",
       "    <tr>\n",
       "      <th>15</th>\n",
       "      <td>agree that they have not hired or employed the...</td>\n",
       "      <td>TrustDeed</td>\n",
       "    </tr>\n",
       "    <tr>\n",
       "      <th>16</th>\n",
       "      <td>RECORDING REQUESTED BY:\\n\\nMelinda Meyer\\n1477...</td>\n",
       "      <td>TrustDeed</td>\n",
       "    </tr>\n",
       "    <tr>\n",
       "      <th>17</th>\n",
       "      <td>THE MAIZE TRUST\\n(MASTER'S REF. IT 8214/98)\\n\\...</td>\n",
       "      <td>TrustDeed</td>\n",
       "    </tr>\n",
       "    <tr>\n",
       "      <th>18</th>\n",
       "      <td>(or Recorder's Use Only)\\n\\nRECORDING REQUESTE...</td>\n",
       "      <td>TrustDeed</td>\n",
       "    </tr>\n",
       "    <tr>\n",
       "      <th>19</th>\n",
       "      <td>TRUST DEED\\nTHIS TRUST DEED is made on this 8t...</td>\n",
       "      <td>TrustDeed</td>\n",
       "    </tr>\n",
       "    <tr>\n",
       "      <th>20</th>\n",
       "      <td>(or Recorder's Use Only)\\n\\nRECORDING REQUESTE...</td>\n",
       "      <td>TrustDeed</td>\n",
       "    </tr>\n",
       "  </tbody>\n",
       "</table>\n",
       "</div>"
      ],
      "text/plain": [
       "                                                 text      label\n",
       "0   Springside Mortgage oeyr Mortgage Statement\\n\\...    Mortage\n",
       "1   Springside Mortgage Mortgage Statement\\nCuston...    Mortage\n",
       "2   — THIS IS A CERTIFIED COPY\\nWationsl City Bank...    Mortage\n",
       "3   Southfield Bank\\n\\nMORTGAGE AGREEMENT\\n\\nParti...    Mortage\n",
       "4   (A)\\n\\n(B)\\n\\n(Cc)\\n\\n(D)\\n\\n(E)\\n\\n(F)\\n\\n(G)...    Mortage\n",
       "5   Loan Estimate vale Tome JO year\\n\\nEa\\nBue Le ...    Mortage\n",
       "6   PEATHERED NEST MORTGAGE COMPANY\\nOF CANADA\\n\\n...    Mortage\n",
       "7   Prepared By After Recording, Please Retum To\\n...       Deed\n",
       "8   (Rs. 200 stamp paper)\\n\\nPARTNERSHIP DEED\\n\\nT...       Deed\n",
       "9   DEED OF PARTNERSHIP\\n\\nThe Deed of Partnership...       Deed\n",
       "10  Prepared By After Recording, Please Retum To\\n...       Deed\n",
       "11  Prepared By After Recording, Please Retum To\\n...       Deed\n",
       "12  PARTNERSHIP DEED\\n\\nTHIS DEED OF PARTNERSHIP i...       Deed\n",
       "13  Prepared By After Recording, Please Return To\\...       Deed\n",
       "14  TRUST DEED\\nGaiatree Foundation\\n\\nTHIS INDENT...  TrustDeed\n",
       "15  agree that they have not hired or employed the...  TrustDeed\n",
       "16  RECORDING REQUESTED BY:\\n\\nMelinda Meyer\\n1477...  TrustDeed\n",
       "17  THE MAIZE TRUST\\n(MASTER'S REF. IT 8214/98)\\n\\...  TrustDeed\n",
       "18  (or Recorder's Use Only)\\n\\nRECORDING REQUESTE...  TrustDeed\n",
       "19  TRUST DEED\\nTHIS TRUST DEED is made on this 8t...  TrustDeed\n",
       "20  (or Recorder's Use Only)\\n\\nRECORDING REQUESTE...  TrustDeed"
      ]
     },
     "execution_count": 7,
     "metadata": {},
     "output_type": "execute_result"
    }
   ],
   "source": [
    "df.drop(['filename'],axis=1)"
   ]
  },
  {
   "cell_type": "code",
   "execution_count": 8,
   "id": "725b6272",
   "metadata": {},
   "outputs": [],
   "source": [
    "from sklearn.feature_extraction.text import TfidfVectorizer\n",
    "from sklearn.naive_bayes import MultinomialNB\n",
    "from sklearn.linear_model import LogisticRegression\n",
    "from sklearn.svm import SVC\n",
    "from sklearn.ensemble import RandomForestClassifier\n",
    "from sklearn.model_selection import train_test_split\n",
    "from sklearn import metrics"
   ]
  },
  {
   "cell_type": "code",
   "execution_count": 9,
   "id": "02120a11",
   "metadata": {},
   "outputs": [],
   "source": [
    "X_train, X_test, Y_train, Y_test = train_test_split(df['text'],df['label'],test_size=0.2)"
   ]
  },
  {
   "cell_type": "code",
   "execution_count": 10,
   "id": "4b69ab19",
   "metadata": {},
   "outputs": [],
   "source": [
    "vec = TfidfVectorizer()\n",
    "X_train_vec = vec.fit_transform(X_train)\n",
    "X_test_vec = vec.transform(X_test)"
   ]
  },
  {
   "cell_type": "code",
   "execution_count": 11,
   "id": "c29b1820",
   "metadata": {},
   "outputs": [
    {
     "name": "stdout",
     "output_type": "stream",
     "text": [
      "              precision    recall  f1-score   support\n",
      "\n",
      "        Deed       1.00      0.33      0.50         3\n",
      "     Mortage       1.00      1.00      1.00         1\n",
      "   TrustDeed       0.33      1.00      0.50         1\n",
      "\n",
      "    accuracy                           0.60         5\n",
      "   macro avg       0.78      0.78      0.67         5\n",
      "weighted avg       0.87      0.60      0.60         5\n",
      "\n"
     ]
    }
   ],
   "source": [
    "mnb = MultinomialNB()\n",
    "mnb.fit(X_train_vec,Y_train)\n",
    "y_pred_mnb = mnb.predict(X_test_vec)\n",
    "print(metrics.classification_report(Y_test, y_pred_mnb))"
   ]
  },
  {
   "cell_type": "code",
   "execution_count": 18,
   "id": "29b7aad1",
   "metadata": {},
   "outputs": [
    {
     "name": "stdout",
     "output_type": "stream",
     "text": [
      "              precision    recall  f1-score   support\n",
      "\n",
      "        Deed       1.00      1.00      1.00         3\n",
      "     Mortage       1.00      1.00      1.00         1\n",
      "   TrustDeed       1.00      1.00      1.00         1\n",
      "\n",
      "    accuracy                           1.00         5\n",
      "   macro avg       1.00      1.00      1.00         5\n",
      "weighted avg       1.00      1.00      1.00         5\n",
      "\n"
     ]
    }
   ],
   "source": [
    "svc = SVC(kernel='linear',probability=True)\n",
    "svc.fit(X_train_vec,Y_train)\n",
    "y_pred_svc = svc.predict(X_test_vec)\n",
    "print(metrics.classification_report(Y_test,y_pred_svc))"
   ]
  },
  {
   "cell_type": "code",
   "execution_count": 13,
   "id": "aa822a6e",
   "metadata": {},
   "outputs": [
    {
     "name": "stdout",
     "output_type": "stream",
     "text": [
      "              precision    recall  f1-score   support\n",
      "\n",
      "        Deed       1.00      1.00      1.00         3\n",
      "     Mortage       1.00      1.00      1.00         1\n",
      "   TrustDeed       1.00      1.00      1.00         1\n",
      "\n",
      "    accuracy                           1.00         5\n",
      "   macro avg       1.00      1.00      1.00         5\n",
      "weighted avg       1.00      1.00      1.00         5\n",
      "\n"
     ]
    }
   ],
   "source": [
    "lr = LogisticRegression()\n",
    "lr.fit(X_train_vec,Y_train)\n",
    "y_pred_lr = lr.predict(X_test_vec)\n",
    "print(metrics.classification_report(Y_test,y_pred_svc))"
   ]
  },
  {
   "cell_type": "code",
   "execution_count": 14,
   "id": "4055de54",
   "metadata": {},
   "outputs": [
    {
     "name": "stdout",
     "output_type": "stream",
     "text": [
      "              precision    recall  f1-score   support\n",
      "\n",
      "        Deed       1.00      0.33      0.50         3\n",
      "     Mortage       0.00      0.00      0.00         1\n",
      "   TrustDeed       0.25      1.00      0.40         1\n",
      "\n",
      "    accuracy                           0.40         5\n",
      "   macro avg       0.42      0.44      0.30         5\n",
      "weighted avg       0.65      0.40      0.38         5\n",
      "\n"
     ]
    },
    {
     "name": "stderr",
     "output_type": "stream",
     "text": [
      "C:\\Users\\Sanchana\\anaconda\\lib\\site-packages\\sklearn\\metrics\\_classification.py:1471: UndefinedMetricWarning: Precision and F-score are ill-defined and being set to 0.0 in labels with no predicted samples. Use `zero_division` parameter to control this behavior.\n",
      "  _warn_prf(average, modifier, msg_start, len(result))\n",
      "C:\\Users\\Sanchana\\anaconda\\lib\\site-packages\\sklearn\\metrics\\_classification.py:1471: UndefinedMetricWarning: Precision and F-score are ill-defined and being set to 0.0 in labels with no predicted samples. Use `zero_division` parameter to control this behavior.\n",
      "  _warn_prf(average, modifier, msg_start, len(result))\n",
      "C:\\Users\\Sanchana\\anaconda\\lib\\site-packages\\sklearn\\metrics\\_classification.py:1471: UndefinedMetricWarning: Precision and F-score are ill-defined and being set to 0.0 in labels with no predicted samples. Use `zero_division` parameter to control this behavior.\n",
      "  _warn_prf(average, modifier, msg_start, len(result))\n"
     ]
    }
   ],
   "source": [
    "rf = RandomForestClassifier()\n",
    "rf.fit(X_train_vec,Y_train)\n",
    "y_pred_rf=rf.predict(X_test_vec)\n",
    "print(metrics.classification_report(Y_test,y_pred_rf))"
   ]
  },
  {
   "cell_type": "code",
   "execution_count": 16,
   "id": "fe34eb08",
   "metadata": {},
   "outputs": [
    {
     "name": "stdout",
     "output_type": "stream",
     "text": [
      "[[0.32676295 0.23902577 0.43421129]\n",
      " [0.40760945 0.22835887 0.36403169]\n",
      " [0.33668971 0.24938478 0.4139255 ]\n",
      " [0.15464032 0.21720975 0.62814993]\n",
      " [0.24932756 0.37539552 0.37527692]]\n"
     ]
    }
   ],
   "source": [
    "probmnb = mnb.predict_proba(X_test_vec)\n",
    "print(probmnb)"
   ]
  },
  {
   "cell_type": "code",
   "execution_count": 19,
   "id": "9fc73007",
   "metadata": {},
   "outputs": [
    {
     "name": "stdout",
     "output_type": "stream",
     "text": [
      "[[0.81744916 0.06523673 0.11731411]\n",
      " [0.95090362 0.02560219 0.02349419]\n",
      " [0.85329864 0.058023   0.08867836]\n",
      " [0.03424615 0.15590765 0.80984619]\n",
      " [0.18786482 0.50325061 0.30888456]]\n"
     ]
    }
   ],
   "source": [
    "probsvc = svc.predict_proba(X_test_vec)\n",
    "print(probsvc)"
   ]
  },
  {
   "cell_type": "code",
   "execution_count": 20,
   "id": "5783f580",
   "metadata": {},
   "outputs": [
    {
     "name": "stdout",
     "output_type": "stream",
     "text": [
      "[[0.34935997 0.27135077 0.37928926]\n",
      " [0.41164558 0.26275479 0.32559963]\n",
      " [0.35951776 0.27057521 0.36990703]\n",
      " [0.18171894 0.27007762 0.54820344]\n",
      " [0.23438263 0.42089554 0.34472183]]\n"
     ]
    }
   ],
   "source": [
    "problr = lr.predict_proba(X_test_vec)\n",
    "print(problr)"
   ]
  },
  {
   "cell_type": "code",
   "execution_count": 22,
   "id": "ae3cdb07",
   "metadata": {},
   "outputs": [
    {
     "name": "stdout",
     "output_type": "stream",
     "text": [
      "[[0.32 0.18 0.5 ]\n",
      " [0.65 0.1  0.25]\n",
      " [0.3  0.21 0.49]\n",
      " [0.06 0.1  0.84]\n",
      " [0.16 0.39 0.45]]\n"
     ]
    }
   ],
   "source": [
    "probrf = rf.predict_proba(X_test_vec)\n",
    "print(probrf)"
   ]
  },
  {
   "cell_type": "code",
   "execution_count": null,
   "id": "f8a6ab09",
   "metadata": {},
   "outputs": [],
   "source": []
  }
 ],
 "metadata": {
  "kernelspec": {
   "display_name": "Python 3",
   "language": "python",
   "name": "python3"
  },
  "language_info": {
   "codemirror_mode": {
    "name": "ipython",
    "version": 3
   },
   "file_extension": ".py",
   "mimetype": "text/x-python",
   "name": "python",
   "nbconvert_exporter": "python",
   "pygments_lexer": "ipython3",
   "version": "3.8.8"
  }
 },
 "nbformat": 4,
 "nbformat_minor": 5
}
