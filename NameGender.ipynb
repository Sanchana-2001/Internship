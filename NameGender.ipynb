{
 "cells": [
  {
   "cell_type": "code",
   "execution_count": 37,
   "id": "7c8ffbcf",
   "metadata": {},
   "outputs": [],
   "source": [
    "import pandas as pd\n",
    "from sklearn.model_selection import train_test_split\n",
    "from sklearn.preprocessing import LabelEncoder\n",
    "from sklearn.feature_extraction.text import CountVectorizer\n",
    "from sklearn.svm import SVC\n",
    "from sklearn.naive_bayes import MultinomialNB\n",
    "from sklearn.linear_model import LogisticRegression\n",
    "from sklearn.metrics import accuracy_score\n",
    "import pickle"
   ]
  },
  {
   "cell_type": "code",
   "execution_count": 38,
   "id": "0bd4ea75",
   "metadata": {},
   "outputs": [],
   "source": [
    "df = pd.read_csv('Gender.csv')"
   ]
  },
  {
   "cell_type": "code",
   "execution_count": 39,
   "id": "8d3d15e6",
   "metadata": {},
   "outputs": [],
   "source": [
    "vec = CountVectorizer()\n",
    "X = vec.fit_transform(df['Name'])"
   ]
  },
  {
   "cell_type": "code",
   "execution_count": 40,
   "id": "28117b84",
   "metadata": {},
   "outputs": [],
   "source": [
    "encoder = LabelEncoder()\n",
    "Y = encoder.fit_transform(df['Gender'])"
   ]
  },
  {
   "cell_type": "code",
   "execution_count": 41,
   "id": "81146938",
   "metadata": {},
   "outputs": [],
   "source": [
    "X_train, X_test, Y_train, Y_test = train_test_split(X,Y,test_size=0.2)"
   ]
  },
  {
   "cell_type": "code",
   "execution_count": 42,
   "id": "9cdbe0bc",
   "metadata": {},
   "outputs": [
    {
     "name": "stdout",
     "output_type": "stream",
     "text": [
      "SVM Accuracy: 0.47058823529411764\n"
     ]
    }
   ],
   "source": [
    "#svm\n",
    "\n",
    "svm = SVC()\n",
    "svm.fit(X_train,Y_train)\n",
    "svm_pred = svm.predict(X_test)\n",
    "svm_acc = accuracy_score(Y_test,svm_pred)\n",
    "print(\"SVM Accuracy:\",svm_acc)"
   ]
  },
  {
   "cell_type": "code",
   "execution_count": 43,
   "id": "12f36a9a",
   "metadata": {},
   "outputs": [
    {
     "name": "stdout",
     "output_type": "stream",
     "text": [
      "Multinomial NB accuracy: 1.0\n"
     ]
    }
   ],
   "source": [
    "#naive bayes\n",
    "\n",
    "nb = MultinomialNB()\n",
    "nb.fit(X_test,Y_test)\n",
    "nb_pred = nb.predict(X_test)\n",
    "nb_acc = accuracy_score(Y_test,nb_pred)\n",
    "print(\"Multinomial NB accuracy:\",nb_acc)"
   ]
  },
  {
   "cell_type": "code",
   "execution_count": 44,
   "id": "84f043b3",
   "metadata": {},
   "outputs": [
    {
     "name": "stdout",
     "output_type": "stream",
     "text": [
      "Logistic Regression accuracy: 0.47058823529411764\n"
     ]
    }
   ],
   "source": [
    "#logistic regression \n",
    "\n",
    "lr = LogisticRegression()\n",
    "lr.fit(X_train,Y_train)\n",
    "lr_pred = lr.predict(X_test)\n",
    "lr_acc=accuracy_score(Y_test,lr_pred)\n",
    "print(\"Logistic Regression accuracy:\",lr_acc)\n"
   ]
  },
  {
   "cell_type": "code",
   "execution_count": 45,
   "id": "e5752189",
   "metadata": {},
   "outputs": [
    {
     "name": "stdout",
     "output_type": "stream",
     "text": [
      "SVM: ['Male' 'Male']\n",
      "NB: ['Female' 'Female']\n",
      "LR: ['Male' 'Male']\n"
     ]
    }
   ],
   "source": [
    "names = ['Aurora','Jefrey']\n",
    "names_t = vec.transform(names)\n",
    "svmp = svm.predict(names_t)\n",
    "nbp = nb.predict(names_t)\n",
    "lrp = lr.predict(names_t)\n",
    "print(\"SVM:\",encoder.inverse_transform(svmp))\n",
    "print(\"NB:\",encoder.inverse_transform(nbp))\n",
    "print(\"LR:\",encoder.inverse_transform(lrp))"
   ]
  },
  {
   "cell_type": "code",
   "execution_count": 26,
   "id": "3bb1da0e",
   "metadata": {},
   "outputs": [],
   "source": [
    "with open('vectorizer.pkl', 'wb') as file:\n",
    "    pickle.dump(vec, file)\n",
    "\n",
    "with open('label_encoder.pkl', 'wb') as file:\n",
    "    pickle.dump(encoder, file)\n",
    "\n",
    "with open('svm_model.pkl', 'wb') as file:\n",
    "    pickle.dump(svm, file)\n",
    "\n",
    "with open('nb_model.pkl', 'wb') as file:\n",
    "    pickle.dump(nb, file)\n",
    "\n",
    "with open('log_reg_model.pkl', 'wb') as file:\n",
    "    pickle.dump(lr, file)"
   ]
  },
  {
   "cell_type": "code",
   "execution_count": 29,
   "id": "8a3f28a0",
   "metadata": {},
   "outputs": [],
   "source": [
    "with open('vectorizer.pkl', 'rb') as file:\n",
    "    loaded_vec = pickle.load(file)\n",
    "\n",
    "with open('label_encoder.pkl', 'rb') as file:\n",
    "    loaded_encoder = pickle.load(file)\n",
    "\n",
    "with open('svm_model.pkl', 'rb') as file:\n",
    "    loaded_svm = pickle.load(file)\n",
    "\n",
    "with open('nb_model.pkl', 'rb') as file:\n",
    "    loaded_nb = pickle.load(file)\n",
    "\n",
    "with open('log_reg_model.pkl', 'rb') as file:\n",
    "    loaded_lr = pickle.load(file)\n"
   ]
  },
  {
   "cell_type": "code",
   "execution_count": 30,
   "id": "666cc620",
   "metadata": {},
   "outputs": [],
   "source": [
    "new_names = ['George', 'Hannah']\n",
    "new_names_transformed = loaded_vec.transform(new_names)\n"
   ]
  },
  {
   "cell_type": "code",
   "execution_count": 33,
   "id": "97a765df",
   "metadata": {},
   "outputs": [],
   "source": [
    "svm_predictions = loaded_svm.predict(new_names_transformed)\n",
    "nb_predictions = loaded_nb.predict(new_names_transformed)\n",
    "log_reg_predictions = loaded_lr.predict(new_names_transformed)\n",
    "\n",
    "\n",
    "svm_predictions_labels = loaded_encoder.inverse_transform(svm_predictions)\n",
    "nb_predictions_labels = loaded_encoder.inverse_transform(nb_predictions)\n",
    "log_reg_predictions_labels = loaded_encoder.inverse_transform(log_reg_predictions)"
   ]
  },
  {
   "cell_type": "code",
   "execution_count": 34,
   "id": "3f1b4a87",
   "metadata": {},
   "outputs": [
    {
     "name": "stdout",
     "output_type": "stream",
     "text": [
      "SVM Predictions: ['Male' 'Male']\n",
      "Naive Bayes Predictions: ['Female' 'Female']\n",
      "Logistic Regression Predictions: ['Male' 'Male']\n"
     ]
    }
   ],
   "source": [
    "print(\"SVM Predictions:\", svm_predictions_labels)\n",
    "print(\"Naive Bayes Predictions:\", nb_predictions_labels)\n",
    "print(\"Logistic Regression Predictions:\", log_reg_predictions_labels)"
   ]
  },
  {
   "cell_type": "code",
   "execution_count": null,
   "id": "a17ec615",
   "metadata": {},
   "outputs": [],
   "source": []
  }
 ],
 "metadata": {
  "kernelspec": {
   "display_name": "Python 3",
   "language": "python",
   "name": "python3"
  },
  "language_info": {
   "codemirror_mode": {
    "name": "ipython",
    "version": 3
   },
   "file_extension": ".py",
   "mimetype": "text/x-python",
   "name": "python",
   "nbconvert_exporter": "python",
   "pygments_lexer": "ipython3",
   "version": "3.8.8"
  }
 },
 "nbformat": 4,
 "nbformat_minor": 5
}
